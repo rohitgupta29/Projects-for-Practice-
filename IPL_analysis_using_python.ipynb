{
  "nbformat": 4,
  "nbformat_minor": 0,
  "metadata": {
    "kernelspec": {
      "display_name": "Python 3",
      "language": "python",
      "name": "python3"
    },
    "language_info": {
      "codemirror_mode": {
        "name": "ipython",
        "version": 3
      },
      "file_extension": ".py",
      "mimetype": "text/x-python",
      "name": "python",
      "nbconvert_exporter": "python",
      "pygments_lexer": "ipython3",
      "version": "3.7.6"
    },
    "colab": {
      "name": "IPL analysis using python.ipynb",
      "provenance": [],
      "include_colab_link": true
    }
  },
  "cells": [
    {
      "cell_type": "markdown",
      "metadata": {
        "id": "view-in-github",
        "colab_type": "text"
      },
      "source": [
        "<a href=\"https://colab.research.google.com/github/rohitgupta29/Projects-for-Practice-/blob/master/IPL_analysis_using_python.ipynb\" target=\"_parent\"><img src=\"https://colab.research.google.com/assets/colab-badge.svg\" alt=\"Open In Colab\"/></a>"
      ]
    },
    {
      "cell_type": "markdown",
      "metadata": {
        "id": "HFosOTGZPXWU",
        "colab_type": "text"
      },
      "source": [
        "Problem statement- we want to know as to what happens during an IPL match which raises several questions in our mind with our limited knowledge about the game called cricket on which it is based. This analysis is done to know as which factors led one of the team to win and how does it matter."
      ]
    },
    {
      "cell_type": "code",
      "metadata": {
        "id": "0759C5ObPXWY",
        "colab_type": "code",
        "colab": {},
        "outputId": "9cfc6337-6ad6-4ae9-e440-0f7ec8688c83"
      },
      "source": [
        "import pandas as pd\n",
        "import numpy as np\n",
        "path = 'Downloads\\ipl_data.csv.txt'\n",
        "df_ipl = pd.read_csv(path)\n",
        "df_ipl.shape"
      ],
      "execution_count": 0,
      "outputs": [
        {
          "output_type": "execute_result",
          "data": {
            "text/plain": [
              "(136522, 24)"
            ]
          },
          "metadata": {
            "tags": []
          },
          "execution_count": 28
        }
      ]
    },
    {
      "cell_type": "code",
      "metadata": {
        "id": "P_Sqap4rPXW0",
        "colab_type": "code",
        "colab": {},
        "outputId": "324f2deb-e033-4a36-ccac-86aa0e0065b2"
      },
      "source": [
        "#There are matches being played all around the world. Find the list of unique cities where matches are being played throughout the world.\n",
        "\n",
        "print('\\Venues Played At: ', df_ipl['city'].unique())"
      ],
      "execution_count": 0,
      "outputs": [
        {
          "output_type": "stream",
          "text": [
            "\\Venues Played At:  ['East London' 'Port Elizabeth' 'Centurion' 'neutral_venue' 'Chennai'\n",
            " 'Jaipur' 'Kolkata' 'Delhi' 'Chandigarh' 'Hyderabad' 'Ranchi' 'Mumbai'\n",
            " 'Bangalore' 'Dharamsala' 'Pune' 'Rajkot' 'Durban' 'Cuttack' 'Cape Town'\n",
            " 'Ahmedabad' 'Johannesburg' 'Visakhapatnam' 'Abu Dhabi' 'Raipur' 'Kochi'\n",
            " 'Kimberley' 'Nagpur' 'Bloemfontein' 'Indore' 'Kanpur']\n"
          ],
          "name": "stdout"
        }
      ]
    },
    {
      "cell_type": "code",
      "metadata": {
        "id": "M5nfV5WkPXXL",
        "colab_type": "code",
        "colab": {},
        "outputId": "6c8a93db-3fb9-4a3c-afa1-97b9e153db2c"
      },
      "source": [
        "\n",
        "df_ipl.tail()"
      ],
      "execution_count": 0,
      "outputs": [
        {
          "output_type": "execute_result",
          "data": {
            "text/html": [
              "<div>\n",
              "<style scoped>\n",
              "    .dataframe tbody tr th:only-of-type {\n",
              "        vertical-align: middle;\n",
              "    }\n",
              "\n",
              "    .dataframe tbody tr th {\n",
              "        vertical-align: top;\n",
              "    }\n",
              "\n",
              "    .dataframe thead th {\n",
              "        text-align: right;\n",
              "    }\n",
              "</style>\n",
              "<table border=\"1\" class=\"dataframe\">\n",
              "  <thead>\n",
              "    <tr style=\"text-align: right;\">\n",
              "      <th></th>\n",
              "      <th>match_code</th>\n",
              "      <th>date</th>\n",
              "      <th>city</th>\n",
              "      <th>venue</th>\n",
              "      <th>team1</th>\n",
              "      <th>team2</th>\n",
              "      <th>toss_winner</th>\n",
              "      <th>toss_decision</th>\n",
              "      <th>winner</th>\n",
              "      <th>win_type</th>\n",
              "      <th>...</th>\n",
              "      <th>batsman</th>\n",
              "      <th>non_striker</th>\n",
              "      <th>bowler</th>\n",
              "      <th>runs</th>\n",
              "      <th>extras</th>\n",
              "      <th>total</th>\n",
              "      <th>extras_type</th>\n",
              "      <th>player_out</th>\n",
              "      <th>wicket_kind</th>\n",
              "      <th>wicket_fielders</th>\n",
              "    </tr>\n",
              "  </thead>\n",
              "  <tbody>\n",
              "    <tr>\n",
              "      <th>136517</th>\n",
              "      <td>336018</td>\n",
              "      <td>2008-05-14</td>\n",
              "      <td>Mumbai</td>\n",
              "      <td>Wankhede Stadium</td>\n",
              "      <td>Mumbai Indians</td>\n",
              "      <td>Chennai Super Kings</td>\n",
              "      <td>Mumbai Indians</td>\n",
              "      <td>field</td>\n",
              "      <td>Mumbai Indians</td>\n",
              "      <td>wickets</td>\n",
              "      <td>...</td>\n",
              "      <td>ST Jayasuriya</td>\n",
              "      <td>RV Uthappa</td>\n",
              "      <td>CK Kapugedera</td>\n",
              "      <td>6</td>\n",
              "      <td>0</td>\n",
              "      <td>6</td>\n",
              "      <td>NaN</td>\n",
              "      <td>NaN</td>\n",
              "      <td>NaN</td>\n",
              "      <td>NaN</td>\n",
              "    </tr>\n",
              "    <tr>\n",
              "      <th>136518</th>\n",
              "      <td>336018</td>\n",
              "      <td>2008-05-14</td>\n",
              "      <td>Mumbai</td>\n",
              "      <td>Wankhede Stadium</td>\n",
              "      <td>Mumbai Indians</td>\n",
              "      <td>Chennai Super Kings</td>\n",
              "      <td>Mumbai Indians</td>\n",
              "      <td>field</td>\n",
              "      <td>Mumbai Indians</td>\n",
              "      <td>wickets</td>\n",
              "      <td>...</td>\n",
              "      <td>ST Jayasuriya</td>\n",
              "      <td>RV Uthappa</td>\n",
              "      <td>CK Kapugedera</td>\n",
              "      <td>6</td>\n",
              "      <td>0</td>\n",
              "      <td>6</td>\n",
              "      <td>NaN</td>\n",
              "      <td>NaN</td>\n",
              "      <td>NaN</td>\n",
              "      <td>NaN</td>\n",
              "    </tr>\n",
              "    <tr>\n",
              "      <th>136519</th>\n",
              "      <td>336018</td>\n",
              "      <td>2008-05-14</td>\n",
              "      <td>Mumbai</td>\n",
              "      <td>Wankhede Stadium</td>\n",
              "      <td>Mumbai Indians</td>\n",
              "      <td>Chennai Super Kings</td>\n",
              "      <td>Mumbai Indians</td>\n",
              "      <td>field</td>\n",
              "      <td>Mumbai Indians</td>\n",
              "      <td>wickets</td>\n",
              "      <td>...</td>\n",
              "      <td>ST Jayasuriya</td>\n",
              "      <td>RV Uthappa</td>\n",
              "      <td>CK Kapugedera</td>\n",
              "      <td>6</td>\n",
              "      <td>0</td>\n",
              "      <td>6</td>\n",
              "      <td>NaN</td>\n",
              "      <td>NaN</td>\n",
              "      <td>NaN</td>\n",
              "      <td>NaN</td>\n",
              "    </tr>\n",
              "    <tr>\n",
              "      <th>136520</th>\n",
              "      <td>336018</td>\n",
              "      <td>2008-05-14</td>\n",
              "      <td>Mumbai</td>\n",
              "      <td>Wankhede Stadium</td>\n",
              "      <td>Mumbai Indians</td>\n",
              "      <td>Chennai Super Kings</td>\n",
              "      <td>Mumbai Indians</td>\n",
              "      <td>field</td>\n",
              "      <td>Mumbai Indians</td>\n",
              "      <td>wickets</td>\n",
              "      <td>...</td>\n",
              "      <td>ST Jayasuriya</td>\n",
              "      <td>RV Uthappa</td>\n",
              "      <td>CK Kapugedera</td>\n",
              "      <td>4</td>\n",
              "      <td>0</td>\n",
              "      <td>4</td>\n",
              "      <td>NaN</td>\n",
              "      <td>NaN</td>\n",
              "      <td>NaN</td>\n",
              "      <td>NaN</td>\n",
              "    </tr>\n",
              "    <tr>\n",
              "      <th>136521</th>\n",
              "      <td>336018</td>\n",
              "      <td>2008-05-14</td>\n",
              "      <td>Mumbai</td>\n",
              "      <td>Wankhede Stadium</td>\n",
              "      <td>Mumbai Indians</td>\n",
              "      <td>Chennai Super Kings</td>\n",
              "      <td>Mumbai Indians</td>\n",
              "      <td>field</td>\n",
              "      <td>Mumbai Indians</td>\n",
              "      <td>wickets</td>\n",
              "      <td>...</td>\n",
              "      <td>ST Jayasuriya</td>\n",
              "      <td>RV Uthappa</td>\n",
              "      <td>CK Kapugedera</td>\n",
              "      <td>4</td>\n",
              "      <td>0</td>\n",
              "      <td>4</td>\n",
              "      <td>NaN</td>\n",
              "      <td>NaN</td>\n",
              "      <td>NaN</td>\n",
              "      <td>NaN</td>\n",
              "    </tr>\n",
              "  </tbody>\n",
              "</table>\n",
              "<p>5 rows × 24 columns</p>\n",
              "</div>"
            ],
            "text/plain": [
              "        match_code        date    city             venue           team1  \\\n",
              "136517      336018  2008-05-14  Mumbai  Wankhede Stadium  Mumbai Indians   \n",
              "136518      336018  2008-05-14  Mumbai  Wankhede Stadium  Mumbai Indians   \n",
              "136519      336018  2008-05-14  Mumbai  Wankhede Stadium  Mumbai Indians   \n",
              "136520      336018  2008-05-14  Mumbai  Wankhede Stadium  Mumbai Indians   \n",
              "136521      336018  2008-05-14  Mumbai  Wankhede Stadium  Mumbai Indians   \n",
              "\n",
              "                      team2     toss_winner toss_decision          winner  \\\n",
              "136517  Chennai Super Kings  Mumbai Indians         field  Mumbai Indians   \n",
              "136518  Chennai Super Kings  Mumbai Indians         field  Mumbai Indians   \n",
              "136519  Chennai Super Kings  Mumbai Indians         field  Mumbai Indians   \n",
              "136520  Chennai Super Kings  Mumbai Indians         field  Mumbai Indians   \n",
              "136521  Chennai Super Kings  Mumbai Indians         field  Mumbai Indians   \n",
              "\n",
              "       win_type  ...        batsman  non_striker         bowler runs extras  \\\n",
              "136517  wickets  ...  ST Jayasuriya   RV Uthappa  CK Kapugedera    6      0   \n",
              "136518  wickets  ...  ST Jayasuriya   RV Uthappa  CK Kapugedera    6      0   \n",
              "136519  wickets  ...  ST Jayasuriya   RV Uthappa  CK Kapugedera    6      0   \n",
              "136520  wickets  ...  ST Jayasuriya   RV Uthappa  CK Kapugedera    4      0   \n",
              "136521  wickets  ...  ST Jayasuriya   RV Uthappa  CK Kapugedera    4      0   \n",
              "\n",
              "       total extras_type  player_out  wicket_kind  wicket_fielders  \n",
              "136517     6         NaN         NaN          NaN              NaN  \n",
              "136518     6         NaN         NaN          NaN              NaN  \n",
              "136519     6         NaN         NaN          NaN              NaN  \n",
              "136520     4         NaN         NaN          NaN              NaN  \n",
              "136521     4         NaN         NaN          NaN              NaN  \n",
              "\n",
              "[5 rows x 24 columns]"
            ]
          },
          "metadata": {
            "tags": []
          },
          "execution_count": 35
        }
      ]
    },
    {
      "cell_type": "code",
      "metadata": {
        "id": "H4GGkop7PXXf",
        "colab_type": "code",
        "colab": {},
        "outputId": "cd1a8e9f-8e31-425e-c731-35ea5d6b6a42"
      },
      "source": [
        "#Find columns containing null values if any.\n",
        "\n",
        "df_ipl.isnull().sum()"
      ],
      "execution_count": 0,
      "outputs": [
        {
          "output_type": "execute_result",
          "data": {
            "text/plain": [
              "match_code              0\n",
              "date                    0\n",
              "city                    0\n",
              "venue                   0\n",
              "team1                   0\n",
              "team2                   0\n",
              "toss_winner             0\n",
              "toss_decision           0\n",
              "winner               1818\n",
              "win_type             1818\n",
              "win_margin           1818\n",
              "inning                  0\n",
              "delivery                0\n",
              "batting_team            0\n",
              "batsman                 0\n",
              "non_striker             0\n",
              "bowler                  0\n",
              "runs                    0\n",
              "extras                  0\n",
              "total                   0\n",
              "extras_type        129064\n",
              "player_out         129807\n",
              "wicket_kind        129807\n",
              "wicket_fielders    131657\n",
              "dtype: int64"
            ]
          },
          "metadata": {
            "tags": []
          },
          "execution_count": 31
        }
      ]
    },
    {
      "cell_type": "code",
      "metadata": {
        "id": "xA3iICkDPXXt",
        "colab_type": "code",
        "colab": {},
        "outputId": "1e673f61-9e3a-48c0-aa2a-f22a852c077e"
      },
      "source": [
        "#Matches are played throughout the world in different countries but they may or may not have multiple venues(stadiums where matches are played). Find the top 5 venues where the most matches are played.\n",
        "\n",
        "venues = df_ipl.groupby('venue')['match_code'].nunique().sort_values(ascending = False)\n",
        "print('Top 5 favoured grounds are : \\n', venues[0:5])"
      ],
      "execution_count": 0,
      "outputs": [
        {
          "output_type": "stream",
          "text": [
            "Top 5 favoured grounds are : \n",
            " venue\n",
            "M Chinnaswamy Stadium              58\n",
            "Eden Gardens                       54\n",
            "Feroz Shah Kotla                   53\n",
            "Wankhede Stadium                   49\n",
            "MA Chidambaram Stadium, Chepauk    48\n",
            "Name: match_code, dtype: int64\n"
          ],
          "name": "stdout"
        }
      ]
    },
    {
      "cell_type": "code",
      "metadata": {
        "id": "-qMVPg4QPXX8",
        "colab_type": "code",
        "colab": {},
        "outputId": "e27b6737-7c63-4dad-fca0-d341e923cfa7"
      },
      "source": [
        "#Find out how the runs were scored that is the runs count frequency table( number of singles, doubles, boundaries, sixes etc were scored).¶\n",
        "\n",
        "runs_counts = df_ipl['runs'].value_counts()\n",
        "#print('Runs count frequency table: \\n', runs_counts)"
      ],
      "execution_count": 0,
      "outputs": [
        {
          "output_type": "stream",
          "text": [
            "Runs count frequency table: \n",
            " 0    55870\n",
            "1    50087\n",
            "4    15409\n",
            "2     8835\n",
            "6     5806\n",
            "3      473\n",
            "5       42\n",
            "Name: runs, dtype: int64\n"
          ],
          "name": "stdout"
        }
      ]
    },
    {
      "cell_type": "code",
      "metadata": {
        "id": "aq1Cg3hxPXYL",
        "colab_type": "code",
        "colab": {},
        "outputId": "a33bdf2b-357a-4f3d-b1b1-98ff72e4bf25"
      },
      "source": [
        "#IPL seasons are held every year now let's look at our data and extract how many seasons and which year were they played?\n",
        "\n",
        "df_ipl['year'] = df_ipl['date'].apply(lambda x: x[:4])\n",
        "\n",
        "print('The no. of seasons that were played are :', len(df_ipl['year'].unique()))\n",
        "print('Seasons played were in :', df_ipl['year'].unique())"
      ],
      "execution_count": 0,
      "outputs": [
        {
          "output_type": "stream",
          "text": [
            "The no. of seasons that were played are : 9\n",
            "Seasons played were in : ['2009' '2014' '2011' '2008' '2015' '2010' '2013' '2012' '2016']\n"
          ],
          "name": "stdout"
        }
      ]
    },
    {
      "cell_type": "code",
      "metadata": {
        "id": "EPYkUU4YPXYY",
        "colab_type": "code",
        "colab": {},
        "outputId": "d92be7ad-ee2d-4291-9819-e357d807053c"
      },
      "source": [
        "#Find out the total number of matches played in each season also find the total number of runs scored in each season.\n",
        "\n",
        "matches_per_season = df_ipl.groupby('year')['match_code'].nunique()\n",
        "print('Matches held per season are : \\n', matches_per_season)"
      ],
      "execution_count": 0,
      "outputs": [
        {
          "output_type": "stream",
          "text": [
            "Matches held per season are : \n",
            " year\n",
            "2008    58\n",
            "2009    57\n",
            "2010    60\n",
            "2011    73\n",
            "2012    74\n",
            "2013    76\n",
            "2014    60\n",
            "2015    59\n",
            "2016    60\n",
            "Name: match_code, dtype: int64\n"
          ],
          "name": "stdout"
        }
      ]
    },
    {
      "cell_type": "code",
      "metadata": {
        "id": "YXFj9sZNPXYh",
        "colab_type": "code",
        "colab": {},
        "outputId": "d4f90816-bbd8-4764-f46e-d231a609592c"
      },
      "source": [
        "runs_per_season = df_ipl.groupby('year')['total'].sum()\n",
        "print('total runs scored per season are: \\n')"
      ],
      "execution_count": 0,
      "outputs": [
        {
          "output_type": "stream",
          "text": [
            "total runs scored per season are: \n",
            " year\n",
            "2008    17936\n",
            "2009    16320\n",
            "2010    18862\n",
            "2011    21154\n",
            "2012    22451\n",
            "2013    22541\n",
            "2014    18909\n",
            "2015    18331\n",
            "2016    18862\n",
            "Name: total, dtype: int64\n"
          ],
          "name": "stdout"
        }
      ]
    },
    {
      "cell_type": "code",
      "metadata": {
        "id": "fBkpOwVTPXYu",
        "colab_type": "code",
        "colab": {},
        "outputId": "e600b6d7-76c2-4453-db8b-ebdb3eb4e5ae"
      },
      "source": [
        "#There are teams which are high performing and low performing. Let's look at the aspect of performance of an individual team. Filter the data and aggregate the runs scored by each team. Display top 10 results which are having runs scored over 200.\n",
        "\n",
        "high_scores = df_ipl.groupby(['match_code', 'inning', 'winner' ])['total'].sum().reset_index()\n",
        "high_scores = high_scores[high_scores['total'] >= 200]\n",
        "high_scores.nlargest(10, 'total')"
      ],
      "execution_count": 0,
      "outputs": [
        {
          "output_type": "execute_result",
          "data": {
            "text/html": [
              "<div>\n",
              "<style scoped>\n",
              "    .dataframe tbody tr th:only-of-type {\n",
              "        vertical-align: middle;\n",
              "    }\n",
              "\n",
              "    .dataframe tbody tr th {\n",
              "        vertical-align: top;\n",
              "    }\n",
              "\n",
              "    .dataframe thead th {\n",
              "        text-align: right;\n",
              "    }\n",
              "</style>\n",
              "<table border=\"1\" class=\"dataframe\">\n",
              "  <thead>\n",
              "    <tr style=\"text-align: right;\">\n",
              "      <th></th>\n",
              "      <th>match_code</th>\n",
              "      <th>inning</th>\n",
              "      <th>winner</th>\n",
              "      <th>total</th>\n",
              "    </tr>\n",
              "  </thead>\n",
              "  <tbody>\n",
              "    <tr>\n",
              "      <th>692</th>\n",
              "      <td>598027</td>\n",
              "      <td>1</td>\n",
              "      <td>Royal Challengers Bangalore</td>\n",
              "      <td>263</td>\n",
              "    </tr>\n",
              "    <tr>\n",
              "      <th>1102</th>\n",
              "      <td>980987</td>\n",
              "      <td>1</td>\n",
              "      <td>Royal Challengers Bangalore</td>\n",
              "      <td>248</td>\n",
              "    </tr>\n",
              "    <tr>\n",
              "      <th>288</th>\n",
              "      <td>419137</td>\n",
              "      <td>1</td>\n",
              "      <td>Chennai Super Kings</td>\n",
              "      <td>246</td>\n",
              "    </tr>\n",
              "    <tr>\n",
              "      <th>2</th>\n",
              "      <td>335983</td>\n",
              "      <td>1</td>\n",
              "      <td>Chennai Super Kings</td>\n",
              "      <td>240</td>\n",
              "    </tr>\n",
              "    <tr>\n",
              "      <th>988</th>\n",
              "      <td>829795</td>\n",
              "      <td>1</td>\n",
              "      <td>Royal Challengers Bangalore</td>\n",
              "      <td>235</td>\n",
              "    </tr>\n",
              "    <tr>\n",
              "      <th>468</th>\n",
              "      <td>501260</td>\n",
              "      <td>1</td>\n",
              "      <td>Kings XI Punjab</td>\n",
              "      <td>232</td>\n",
              "    </tr>\n",
              "    <tr>\n",
              "      <th>394</th>\n",
              "      <td>501223</td>\n",
              "      <td>1</td>\n",
              "      <td>Delhi Daredevils</td>\n",
              "      <td>231</td>\n",
              "    </tr>\n",
              "    <tr>\n",
              "      <th>840</th>\n",
              "      <td>733987</td>\n",
              "      <td>1</td>\n",
              "      <td>Kings XI Punjab</td>\n",
              "      <td>231</td>\n",
              "    </tr>\n",
              "    <tr>\n",
              "      <th>1022</th>\n",
              "      <td>980907</td>\n",
              "      <td>1</td>\n",
              "      <td>Royal Challengers Bangalore</td>\n",
              "      <td>227</td>\n",
              "    </tr>\n",
              "    <tr>\n",
              "      <th>900</th>\n",
              "      <td>734047</td>\n",
              "      <td>1</td>\n",
              "      <td>Kings XI Punjab</td>\n",
              "      <td>226</td>\n",
              "    </tr>\n",
              "  </tbody>\n",
              "</table>\n",
              "</div>"
            ],
            "text/plain": [
              "      match_code  inning                       winner  total\n",
              "692       598027       1  Royal Challengers Bangalore    263\n",
              "1102      980987       1  Royal Challengers Bangalore    248\n",
              "288       419137       1          Chennai Super Kings    246\n",
              "2         335983       1          Chennai Super Kings    240\n",
              "988       829795       1  Royal Challengers Bangalore    235\n",
              "468       501260       1              Kings XI Punjab    232\n",
              "394       501223       1             Delhi Daredevils    231\n",
              "840       733987       1              Kings XI Punjab    231\n",
              "1022      980907       1  Royal Challengers Bangalore    227\n",
              "900       734047       1              Kings XI Punjab    226"
            ]
          },
          "metadata": {
            "tags": []
          },
          "execution_count": 44
        }
      ]
    },
    {
      "cell_type": "code",
      "metadata": {
        "id": "HAqGaoPFPXY6",
        "colab_type": "code",
        "colab": {},
        "outputId": "9f9fcfa6-02e5-4b27-d32a-4755e81d228b"
      },
      "source": [
        "#Chasing a 200+ target is difficulty in T-20 format. What are the chances that a team scoring runs above 200 in their 1st inning is chased by the opposition in 2nd inning.\n",
        "\n",
        "high_scores1 = high_scores[high_scores['inning'] == 1]\n",
        "high_scores2 = high_scores[high_scores['inning'] == 2]\n",
        "high_scores1 = high_scores1.merge(high_scores2[['match_code','inning','total']], on = 'match_code')\n",
        "\n",
        "high_scores1.rename(columns= {'inning_x': 'inning_1', 'inning_y':'inning_2', 'total_x':'inning1_runs','total_y':'inning2_runs'}, inplace = True)\n",
        "high_scores1=high_scores1[high_scores1['inning1_runs']>= 200]\n",
        "high_scores1['is_score_chased'] = 1\n",
        "high_scores1['is_score_chased'] = np.where(high_scores1['inning1_runs']<= high_scores1['inning2_runs'], 'yes','no')\n",
        "\n",
        "chances = high_scores1['is_score_chased'].value_counts()\n",
        "print('The chances of chasing a target of 200+ in 1st innings are :\\n', chances[1]/14*100) "
      ],
      "execution_count": 0,
      "outputs": [
        {
          "output_type": "stream",
          "text": [
            "The chances of chasing a target of 200+ in 1st innings are :\n",
            " 42.857142857142854\n"
          ],
          "name": "stdout"
        }
      ]
    },
    {
      "cell_type": "code",
      "metadata": {
        "id": "pvgXWU8BPXZI",
        "colab_type": "code",
        "colab": {},
        "outputId": "f3babb62-1304-49af-acbc-13cdb5922097"
      },
      "source": [
        "#Every season has that one team which is outperforming others and is in great form. Which team has the highest win counts in their respective seasons ?\n",
        "\n",
        "match_wise_data = df_ipl.drop_duplicates(subset = 'match_code', keep = 'first').reset_index(drop = True)\n",
        "match_wise_data.groupby('year')['winner'].value_counts(ascending = False)"
      ],
      "execution_count": 0,
      "outputs": [
        {
          "output_type": "execute_result",
          "data": {
            "text/plain": [
              "year  winner                 \n",
              "2008  Rajasthan Royals           13\n",
              "      Kings XI Punjab            10\n",
              "      Chennai Super Kings         9\n",
              "      Delhi Daredevils            7\n",
              "      Mumbai Indians              7\n",
              "                                 ..\n",
              "2016  Kolkata Knight Riders       8\n",
              "      Delhi Daredevils            7\n",
              "      Mumbai Indians              7\n",
              "      Rising Pune Supergiants     5\n",
              "      Kings XI Punjab             4\n",
              "Name: winner, Length: 76, dtype: int64"
            ]
          },
          "metadata": {
            "tags": []
          },
          "execution_count": 50
        }
      ]
    },
    {
      "cell_type": "code",
      "metadata": {
        "id": "IJT81qsbPXZU",
        "colab_type": "code",
        "colab": {}
      },
      "source": [
        ""
      ],
      "execution_count": 0,
      "outputs": []
    }
  ]
}